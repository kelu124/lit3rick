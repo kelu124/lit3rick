{
 "cells": [
  {
   "cell_type": "code",
   "execution_count": 36,
   "id": "spectacular-handbook",
   "metadata": {},
   "outputs": [],
   "source": [
    "import pandas as pd\n",
    "import numpy as np\n",
    "import glob, pathlib\n",
    "import matplotlib.pyplot as plt "
   ]
  },
  {
   "cell_type": "code",
   "execution_count": 89,
   "id": "elegant-glass",
   "metadata": {},
   "outputs": [
    {
     "name": "stdout",
     "output_type": "stream",
     "text": [
      "0.0019438476562499973\n",
      "0.0012094726562500435\n",
      "0.0018208007812500204\n",
      "0.006295410156250014\n",
      "0.063580078125\n",
      "0.5764375\n",
      "0.58310400390625\n",
      "0.589193359375\n",
      "0.60101220703125\n",
      "0.6265927734375\n",
      "0.60408447265625\n"
     ]
    }
   ],
   "source": [
    "V, HILO, GAIN, signal = [], [], [], []\n",
    "sThird = []\n",
    "for k in range(11):\n",
    "    npz = \"data/5V_0_\"+str(k*100)+\".npz\"\n",
    "    npzfile = np.load(npz)\n",
    "    V.append(str(npzfile[\"V\"]))\n",
    "    HILO.append(str(npzfile[\"V\"]))\n",
    "    GAIN.append(str(npzfile[\"GAIN\"]))\n",
    "    X = np.array(npzfile[\"signal\"])\n",
    "    Xm = X[-4000:].mean()\n",
    "    s = [(x-Xm)/512 for x in X ]\n",
    "    signal.append( s )\n",
    "    sThird.append( np.max(np.abs(s)[7000:]) )\n",
    "    print(sThird[-1])"
   ]
  },
  {
   "cell_type": "code",
   "execution_count": 90,
   "id": "upper-contamination",
   "metadata": {},
   "outputs": [
    {
     "data": {
      "text/plain": [
       "<matplotlib.collections.PathCollection at 0x7f6f142aa940>"
      ]
     },
     "execution_count": 90,
     "metadata": {},
     "output_type": "execute_result"
    },
    {
     "data": {
      "image/png": "[encoded data removed]",
      "text/plain": [
       "<Figure size 432x288 with 1 Axes>"
      ]
     },
     "metadata": {
      "needs_background": "light"
     },
     "output_type": "display_data"
    }
   ],
   "source": [
    "plt.scatter(GAIN,100+20.0*np.log(sThird))"
   ]
  },
  {
   "cell_type": "code",
   "execution_count": 91,
   "id": "congressional-partition",
   "metadata": {},
   "outputs": [
    {
     "name": "stdout",
     "output_type": "stream",
     "text": [
      "0.004026367187500046\n",
      "0.00303466796874996\n",
      "0.014494628906249973\n",
      "0.09614843750000002\n",
      "0.85846240234375\n",
      "1.1505048828125\n",
      "1.1377143554687499\n",
      "1.12724609375\n",
      "1.1207109375\n",
      "1.13766162109375\n",
      "1.1484018554687498\n"
     ]
    }
   ],
   "source": [
    "V, HILO, GAIN, signal = [], [], [], []\n",
    "sThird = []\n",
    "for k in range(11):\n",
    "    npz = \"data/5V_1_\"+str(k*100)+\".npz\"\n",
    "    npzfile = np.load(npz)\n",
    "    V.append(str(npzfile[\"V\"]))\n",
    "    HILO.append(str(npzfile[\"V\"]))\n",
    "    GAIN.append(str(npzfile[\"GAIN\"]))\n",
    "    X = np.array(npzfile[\"signal\"])\n",
    "    Xm = X[-4000:].mean()\n",
    "    s = [(x-Xm)/512 for x in X ]\n",
    "    signal.append( s )\n",
    "    sThird.append( np.max(np.abs(s)[7000:]) )\n",
    "    print(sThird[-1])"
   ]
  },
  {
   "cell_type": "code",
   "execution_count": 92,
   "id": "composite-retrieval",
   "metadata": {},
   "outputs": [
    {
     "data": {
      "text/plain": [
       "<matplotlib.collections.PathCollection at 0x7f6f099e2278>"
      ]
     },
     "execution_count": 92,
     "metadata": {},
     "output_type": "execute_result"
    },
    {
     "data": {
      "image/png": "[encoded data removed]",
      "text/plain": [
       "<Figure size 432x288 with 1 Axes>"
      ]
     },
     "metadata": {
      "needs_background": "light"
     },
     "output_type": "display_data"
    }
   ],
   "source": [
    "plt.scatter(GAIN,100+20.0*np.log(sThird))"
   ]
  },
  {
   "cell_type": "code",
   "execution_count": 104,
   "id": "middle-examination",
   "metadata": {},
   "outputs": [
    {
     "name": "stdout",
     "output_type": "stream",
     "text": [
      "0.0009748031026146702\n",
      "0.0011151026766590543\n",
      "0.0018553659510996744\n",
      "0.0058592760408310044\n",
      "0.029583048931062145\n",
      "0.20151795383482196\n",
      "0.21385708109682483\n",
      "0.2362965984588803\n",
      "0.26064219029952873\n",
      "0.21671392173531762\n",
      "0.2149330026256456\n"
     ]
    }
   ],
   "source": [
    "V, HILO, GAIN, signal = [], [], [], []\n",
    "sThird = []\n",
    "for k in range(11):\n",
    "    npz = \"data/5V_1_\"+str(k*100)+\".npz\"\n",
    "    npzfile = np.load(npz)\n",
    "    V.append(str(npzfile[\"V\"]))\n",
    "    HILO.append(str(npzfile[\"V\"]))\n",
    "    GAIN.append(str(npzfile[\"GAIN\"]))\n",
    "    X = np.array(npzfile[\"signal\"])\n",
    "    Xm = X[-4000:].mean()\n",
    "    s = [(x-Xm)/512 for x in X ]\n",
    "    signal.append( s )\n",
    "    sThird.append( np.std(signal[-1][6500:7000]) )\n",
    "    print(sThird[-1])"
   ]
  },
  {
   "cell_type": "code",
   "execution_count": 105,
   "id": "soviet-queue",
   "metadata": {},
   "outputs": [
    {
     "data": {
      "text/plain": [
       "<matplotlib.collections.PathCollection at 0x7f6f09649940>"
      ]
     },
     "execution_count": 105,
     "metadata": {},
     "output_type": "execute_result"
    },
    {
     "data": {
      "image/png": "[encoded data removed]",
      "text/plain": [
       "<Figure size 432x288 with 1 Axes>"
      ]
     },
     "metadata": {
      "needs_background": "light"
     },
     "output_type": "display_data"
    }
   ],
   "source": [
    "plt.scatter(GAIN,100+20.0*np.log(sThird))"
   ]
  },
  {
   "cell_type": "code",
   "execution_count": null,
   "id": "considerable-exercise",
   "metadata": {},
   "outputs": [],
   "source": [
    "signal"
   ]
  }
 ],
 "metadata": {
  "kernelspec": {
   "display_name": "Python 3",
   "language": "python",
   "name": "python3"
  },
  "language_info": {
   "codemirror_mode": {
    "name": "ipython",
    "version": 3
   },
   "file_extension": ".py",
   "mimetype": "text/x-python",
   "name": "python",
   "nbconvert_exporter": "python",
   "pygments_lexer": "ipython3",
   "version": "3.6.9"
  }
 },
 "nbformat": 4,
 "nbformat_minor": 5
}
